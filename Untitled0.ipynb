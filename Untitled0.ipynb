{
  "nbformat": 4,
  "nbformat_minor": 0,
  "metadata": {
    "colab": {
      "name": "Untitled0.ipynb",
      "provenance": [],
      "authorship_tag": "ABX9TyME3YSLHev23yK2t9DHpJ1Y",
      "include_colab_link": true
    },
    "kernelspec": {
      "name": "python3",
      "display_name": "Python 3"
    }
  },
  "cells": [
    {
      "cell_type": "markdown",
      "metadata": {
        "id": "view-in-github",
        "colab_type": "text"
      },
      "source": [
        "<a href=\"https://colab.research.google.com/github/demirrayhan/assigment/blob/main/Untitled0.ipynb\" target=\"_parent\"><img src=\"https://colab.research.google.com/assets/colab-badge.svg\" alt=\"Open In Colab\"/></a>"
      ]
    },
    {
      "cell_type": "code",
      "metadata": {
        "colab": {
          "base_uri": "https://localhost:8080/"
        },
        "id": "BDVk3_lNA7x3",
        "outputId": "d457411c-1257-455b-ae9d-2de9d377b627"
      },
      "source": [
        "print(\"Answer the following questions with 'Yes' or 'No\")\n",
        "age = input('Are you a cigarette addict older than 75 years old?').title()\n",
        "chronic = input('Do you have a severe chronic disease?').title()\n",
        "immune = input('Is your immune system too weak?').title()\n",
        "if age == 'Yes' and chronic == 'Yes' or immune == 'Yes':\n",
        "  print('You are in risky group') \n",
        "else:\n",
        "  print('You are not in risky group')"
      ],
      "execution_count": 9,
      "outputs": [
        {
          "output_type": "stream",
          "text": [
            "Answer the following questions with 'Yes' or 'No\n",
            "Are you a cigarette addict older than 75 years old?no\n",
            "Do you have a severe chronic disease?no\n",
            "Is your immune system too weak?no\n",
            "You are not in risky group\n"
          ],
          "name": "stdout"
        }
      ]
    },
    {
      "cell_type": "code",
      "metadata": {
        "colab": {
          "base_uri": "https://localhost:8080/"
        },
        "id": "dpFMA_uPJ0SF",
        "outputId": "4b63a060-4438-4dce-bd01-f3731f33da99"
      },
      "source": [
        "\n"
      ],
      "execution_count": null,
      "outputs": [
        {
          "output_type": "stream",
          "text": [
            "* \n",
            "* * \n",
            "* * * \n",
            "* * * * \n",
            "* * * * * \n",
            "* * * * \n",
            "* * * \n",
            "* * \n",
            "* \n"
          ],
          "name": "stdout"
        }
      ]
    },
    {
      "cell_type": "code",
      "metadata": {
        "colab": {
          "base_uri": "https://localhost:8080/"
        },
        "id": "_a-CMXIJLHSt",
        "outputId": "2e0b7c6b-dcbf-4763-9e1c-c2b65554a42d"
      },
      "source": [
        "n=6\n",
        "for i in range(n):\n",
        "    for j in range(i):\n",
        "        print ('* ', end=\"\")\n",
        "    print('')"
      ],
      "execution_count": null,
      "outputs": [
        {
          "output_type": "stream",
          "text": [
            "\n",
            "* \n",
            "* * \n",
            "* * * \n",
            "* * * * \n",
            "* * * * * \n"
          ],
          "name": "stdout"
        }
      ]
    },
    {
      "cell_type": "code",
      "metadata": {
        "colab": {
          "base_uri": "https://localhost:8080/"
        },
        "id": "kzugl5JFBA48",
        "outputId": "34f5588f-beb2-4318-9edc-eb46654eb75f"
      },
      "source": [
        "names = [\"Ahmed\", \"Aisha\", \"Adam\", \"Joseph\", \"Gabriel\"]\n",
        "for x in names:\n",
        "  print(\"Hello\", x)"
      ],
      "execution_count": null,
      "outputs": [
        {
          "output_type": "stream",
          "text": [
            "Hello Ahmed\n",
            "Hello Aisha\n",
            "Hello Adam\n",
            "Hello Joseph\n",
            "Hello Gabriel\n"
          ],
          "name": "stdout"
        }
      ]
    },
    {
      "cell_type": "code",
      "metadata": {
        "colab": {
          "base_uri": "https://localhost:8080/"
        },
        "id": "OFNAZCdoDg_1",
        "outputId": "34698b97-b271-48af-affb-36490b9b8399"
      },
      "source": [
        "a = []\n",
        "for i in range(1,6):\n",
        "  a.append(i)\n",
        "print(a)"
      ],
      "execution_count": null,
      "outputs": [
        {
          "output_type": "stream",
          "text": [
            "[1, 2, 3, 4, 5]\n"
          ],
          "name": "stdout"
        }
      ]
    },
    {
      "cell_type": "code",
      "metadata": {
        "colab": {
          "base_uri": "https://localhost:8080/"
        },
        "id": "6NumDyeJGCBx",
        "outputId": "5dc2d4c0-0eef-451c-fc4a-84cc7a9fe2b3"
      },
      "source": [
        "user = [('name1','Ayhan'), ('name2','Veli'), ('name3','celik')]\n",
        "for x, y  in user:\n",
        "  print(x, y)\n",
        "    "
      ],
      "execution_count": null,
      "outputs": [
        {
          "output_type": "stream",
          "text": [
            "name1 Ayhan\n",
            "name2 Veli\n",
            "name3 celik\n"
          ],
          "name": "stdout"
        }
      ]
    },
    {
      "cell_type": "code",
      "metadata": {
        "colab": {
          "base_uri": "https://localhost:8080/"
        },
        "id": "KqDCrLpvSyey",
        "outputId": "a484a733-11b9-4550-d6a9-8f5f9497df1a"
      },
      "source": [
        "number = int(input(\"Enter a number:\"))\n",
        "for x in range(11):\n",
        "  print(number,\"x\",x, '=',(number*x))"
      ],
      "execution_count": null,
      "outputs": [
        {
          "output_type": "stream",
          "text": [
            "Enter a number:14\n",
            "14 x 0 = 0\n",
            "14 x 1 = 14\n",
            "14 x 2 = 28\n",
            "14 x 3 = 42\n",
            "14 x 4 = 56\n",
            "14 x 5 = 70\n",
            "14 x 6 = 84\n",
            "14 x 7 = 98\n",
            "14 x 8 = 112\n",
            "14 x 9 = 126\n",
            "14 x 10 = 140\n"
          ],
          "name": "stdout"
        }
      ]
    },
    {
      "cell_type": "code",
      "metadata": {
        "colab": {
          "base_uri": "https://localhost:8080/"
        },
        "id": "Y1qU4sLYW3Sv",
        "outputId": "ab3f9dfc-1f21-4af5-854d-d223689cec14"
      },
      "source": [
        "print(*range(5,25,2))"
      ],
      "execution_count": null,
      "outputs": [
        {
          "output_type": "stream",
          "text": [
            "5 7 9 11 13 15 17 19 21 23\n"
          ],
          "name": "stdout"
        }
      ]
    },
    {
      "cell_type": "code",
      "metadata": {
        "colab": {
          "base_uri": "https://localhost:8080/"
        },
        "id": "sdbWmIhIqamt",
        "outputId": "fc3d64b3-d292-4ac0-b8d7-bd81d1ed7a62"
      },
      "source": [
        "print(*range(10,-10,-1))"
      ],
      "execution_count": null,
      "outputs": [
        {
          "output_type": "stream",
          "text": [
            "10 9 8 7 6 5 4 3 2 1 0 -1 -2 -3 -4 -5 -6 -7 -8 -9\n"
          ],
          "name": "stdout"
        }
      ]
    },
    {
      "cell_type": "code",
      "metadata": {
        "colab": {
          "base_uri": "https://localhost:8080/"
        },
        "id": "F-ih-eYyrHY0",
        "outputId": "402f6303-81a2-43b1-9660-5634cebee4a7"
      },
      "source": [
        "text = ['one', 'two', 'three', 'four', 'five']\n",
        "number= [1,2,3,4,5]\n",
        "x = zip(text, number)\n",
        "print(list(x))\n"
      ],
      "execution_count": null,
      "outputs": [
        {
          "output_type": "stream",
          "text": [
            "[('one', 1), ('two', 2), ('three', 3), ('four', 4), ('five', 5)]\n"
          ],
          "name": "stdout"
        }
      ]
    },
    {
      "cell_type": "code",
      "metadata": {
        "colab": {
          "base_uri": "https://localhost:8080/"
        },
        "id": "uqnFu4rzuP-Q",
        "outputId": "e5c7bf32-22c6-4789-bf5c-eb0f41c56318"
      },
      "source": [
        "number = range(1,11)\n",
        "evens = []\n",
        "odds = []\n",
        "for x in number:\n",
        "  if x % 2 == 0:\n",
        "    evens.append(x)\n",
        "  else:\n",
        "    odds.append(x)\n",
        "print(evens)\n",
        "print(odds)\n",
        "\n"
      ],
      "execution_count": null,
      "outputs": [
        {
          "output_type": "stream",
          "text": [
            "[2, 4, 6, 8, 10]\n",
            "[1, 3, 5, 7, 9]\n"
          ],
          "name": "stdout"
        }
      ]
    },
    {
      "cell_type": "code",
      "metadata": {
        "colab": {
          "base_uri": "https://localhost:8080/"
        },
        "id": "K1e1ctep2EQ6",
        "outputId": "a89f33da-d2ca-420a-b9b3-db3c558adb2a"
      },
      "source": [
        "name = input('Whats your name:')\n",
        "last_name = input('Whats your last name:')\n",
        "print(last_name + \",\" + \" \" + name)"
      ],
      "execution_count": null,
      "outputs": [
        {
          "output_type": "stream",
          "text": [
            "Whats your name:Ayhan\n",
            "Whats your last name:Demir\n",
            "Demir, Ayhan\n"
          ],
          "name": "stdout"
        }
      ]
    },
    {
      "cell_type": "code",
      "metadata": {
        "colab": {
          "base_uri": "https://localhost:8080/"
        },
        "id": "Y0Mmj0jb41ta",
        "outputId": "669e23e1-0048-49d7-bd17-7fd7d181e5cb"
      },
      "source": [
        "n = 5\n",
        "print(n + int(str(n)+str(n)) + int(str(n)+str(n)+str(n)))"
      ],
      "execution_count": null,
      "outputs": [
        {
          "output_type": "stream",
          "text": [
            "615\n"
          ],
          "name": "stdout"
        }
      ]
    },
    {
      "cell_type": "code",
      "metadata": {
        "colab": {
          "base_uri": "https://localhost:8080/"
        },
        "id": "Zj7JlmKETHqi",
        "outputId": "783baf58-611b-42d9-e0e7-40b3a95feb99"
      },
      "source": [
        "print(\"{4} {9} {1} {7} {5} {0} {6} {8} {3} {2}\".format('while', 'dream', 'work.', 'and', 'Some', 'success', 'others', 'of', 'wake up', 'people'))"
      ],
      "execution_count": null,
      "outputs": [
        {
          "output_type": "stream",
          "text": [
            "Some people dream of success while others wake up and work.\n"
          ],
          "name": "stdout"
        }
      ]
    },
    {
      "cell_type": "code",
      "metadata": {
        "colab": {
          "base_uri": "https://localhost:8080/"
        },
        "id": "ubWOTUPOde16",
        "outputId": "abb2e572-c7b3-4131-a77c-1ca82bddb151"
      },
      "source": [
        "print(True or not None)\n",
        "\n",
        "print(\"{3} {2} {4} {1} {0}\".format('job.', 'a', 'will', 'I', 'find'))\n",
        "section_3_5 = \"python data types and useful operations\"\n",
        "print(section_3_5.title())"
      ],
      "execution_count": null,
      "outputs": [
        {
          "output_type": "stream",
          "text": [
            "True\n",
            "I will find a job.\n",
            "Python Data Types And Useful Operations\n"
          ],
          "name": "stdout"
        }
      ]
    },
    {
      "cell_type": "code",
      "metadata": {
        "colab": {
          "base_uri": "https://localhost:8080/"
        },
        "id": "OgkkvHz1guuY",
        "outputId": "087fd5a9-077b-4bae-e87a-d2fa25ab4246"
      },
      "source": [
        "print({0} and False or[])\n",
        "print(float(\"140\" * int(input(\"Enter a number:\" ))))"
      ],
      "execution_count": null,
      "outputs": [
        {
          "output_type": "stream",
          "text": [
            "[]\n",
            "Enter a number:2\n",
            "140140.0\n"
          ],
          "name": "stdout"
        }
      ]
    },
    {
      "cell_type": "code",
      "metadata": {
        "colab": {
          "base_uri": "https://localhost:8080/"
        },
        "id": "Pj7K0I0chHqA",
        "outputId": "62dc2b78-872c-44b2-b10d-27d6871954dd"
      },
      "source": [
        "sentence = \"The less you sleep and eat, the better your life will be.\"\n",
        "var1 = \"sleep\"\n",
        "var2 = \"eat\"\n",
        "var3 = \"better\"\n",
        "var4 = \"life\"\n",
        "text = f\"The less you {var1} and {var2}, the {var3} your {var4} will be.\"\n",
        "print(text)"
      ],
      "execution_count": null,
      "outputs": [
        {
          "output_type": "stream",
          "text": [
            "The less you sleep and eat, the better your life will be.\n"
          ],
          "name": "stdout"
        }
      ]
    },
    {
      "cell_type": "code",
      "metadata": {
        "colab": {
          "base_uri": "https://localhost:8080/"
        },
        "id": "zCGxoriDinIm",
        "outputId": "883341b8-e459-468d-9a62-e640f42abf4f"
      },
      "source": [
        "i "
      ],
      "execution_count": null,
      "outputs": [
        {
          "output_type": "stream",
          "text": [
            "['ab', 'cd']\n"
          ],
          "name": "stdout"
        }
      ]
    },
    {
      "cell_type": "code",
      "metadata": {
        "id": "XTrG8u0eqZYF",
        "colab": {
          "base_uri": "https://localhost:8080/"
        },
        "outputId": "e664bdb5-7a69-4344-e95f-88edea869883"
      },
      "source": [
        "number = [11, 2, 24, 61, 48, 33, 3]\n",
        "evens = []\n",
        "odds = []\n",
        "for x in number:\n",
        "  if x % 2 == 0:\n",
        "    evens.append(x)\n",
        "  else:\n",
        "    odds.append(x)\n",
        "print(len(evens))\n",
        "print(len(odds))"
      ],
      "execution_count": null,
      "outputs": [
        {
          "output_type": "stream",
          "text": [
            "3\n",
            "4\n"
          ],
          "name": "stdout"
        }
      ]
    },
    {
      "cell_type": "code",
      "metadata": {
        "colab": {
          "base_uri": "https://localhost:8080/"
        },
        "id": "2cirjbwUjXxC",
        "outputId": "913cc92d-20cd-45f6-8161-236cc9d44561"
      },
      "source": [
        "sum_num=0\n",
        "for i in range(1,75):\n",
        "  print(sum_num+i)\n",
        "  sum_num +=1\n"
      ],
      "execution_count": null,
      "outputs": [
        {
          "output_type": "stream",
          "text": [
            "1\n",
            "3\n",
            "5\n",
            "7\n",
            "9\n",
            "11\n",
            "13\n",
            "15\n",
            "17\n",
            "19\n",
            "21\n",
            "23\n",
            "25\n",
            "27\n",
            "29\n",
            "31\n",
            "33\n",
            "35\n",
            "37\n",
            "39\n",
            "41\n",
            "43\n",
            "45\n",
            "47\n",
            "49\n",
            "51\n",
            "53\n",
            "55\n",
            "57\n",
            "59\n",
            "61\n",
            "63\n",
            "65\n",
            "67\n",
            "69\n",
            "71\n",
            "73\n",
            "75\n",
            "77\n",
            "79\n",
            "81\n",
            "83\n",
            "85\n",
            "87\n",
            "89\n",
            "91\n",
            "93\n",
            "95\n",
            "97\n",
            "99\n",
            "101\n",
            "103\n",
            "105\n",
            "107\n",
            "109\n",
            "111\n",
            "113\n",
            "115\n",
            "117\n",
            "119\n",
            "121\n",
            "123\n",
            "125\n",
            "127\n",
            "129\n",
            "131\n",
            "133\n",
            "135\n",
            "137\n",
            "139\n",
            "141\n",
            "143\n",
            "145\n",
            "147\n"
          ],
          "name": "stdout"
        }
      ]
    },
    {
      "cell_type": "code",
      "metadata": {
        "colab": {
          "base_uri": "https://localhost:8080/"
        },
        "id": "4IpV2tyXgOJ3",
        "outputId": "5dca7e76-a3a5-47c6-d6ac-a220942c7288"
      },
      "source": [
        "alf = ['a', 'b', 'c', 'd', 'e', 'f', 'g', 'h', 'i', 'j', 'k', 'l', 'm', 'n', 'o', 'p', 'q', 'r', 's', 't', 'u', 'v', 'w', 'x', 'y', 'z']\n",
        "\n",
        "print(alf[8], ' ', alf[7],alf[0],alf[19],alf[4], \" \",alf[24],alf[14],alf[20], sep=\"\")\n",
        "    "
      ],
      "execution_count": null,
      "outputs": [
        {
          "output_type": "stream",
          "text": [
            "i hate you\n"
          ],
          "name": "stdout"
        }
      ]
    },
    {
      "cell_type": "code",
      "metadata": {
        "colab": {
          "base_uri": "https://localhost:8080/"
        },
        "id": "EhguROm82Mtl",
        "outputId": "a4bbdac7-0c5f-48f7-f481-3d324ad9e70c"
      },
      "source": [
        "datalist = [1452, 11.23, 1+2j, True, 'w3resource', (0, -1), [5, 12], {\"class\":'V', \"section\":'A'}]\n",
        "for way in datalist:\n",
        "  print(way, type(way))"
      ],
      "execution_count": null,
      "outputs": [
        {
          "output_type": "stream",
          "text": [
            "1452 <class 'int'>\n",
            "11.23 <class 'float'>\n",
            "(1+2j) <class 'complex'>\n",
            "True <class 'bool'>\n",
            "w3resource <class 'str'>\n",
            "(0, -1) <class 'tuple'>\n",
            "[5, 12] <class 'list'>\n",
            "{'class': 'V', 'section': 'A'} <class 'dict'>\n"
          ],
          "name": "stdout"
        }
      ]
    },
    {
      "cell_type": "code",
      "metadata": {
        "colab": {
          "base_uri": "https://localhost:8080/"
        },
        "id": "3SPSiyYPP9Fx",
        "outputId": "a491934a-e04e-46a2-963a-4434231ede2d"
      },
      "source": [
        "ayhan= {\"ali\" : \"Veli\", 'name2' : \"celik\"}\n",
        "for a, b in ayhan.items():\n",
        "  print(b)\n",
        "  print(a)"
      ],
      "execution_count": null,
      "outputs": [
        {
          "output_type": "stream",
          "text": [
            "Veli\n",
            "ali\n",
            "celik\n",
            "name2\n"
          ],
          "name": "stdout"
        }
      ]
    },
    {
      "cell_type": "code",
      "metadata": {
        "colab": {
          "base_uri": "https://localhost:8080/"
        },
        "id": "KFbhoB2rT4rk",
        "outputId": "5c795d7a-7d4f-4030-ffee-b7a891d75fa4"
      },
      "source": [
        "myTuple = (\"John\", \"Peter\", \"Vicky\")\n",
        "\n",
        "x = \"#\".join(myTuple)\n",
        "\n",
        "print(x)"
      ],
      "execution_count": null,
      "outputs": [
        {
          "output_type": "stream",
          "text": [
            "John#Peter#Vicky\n"
          ],
          "name": "stdout"
        }
      ]
    }
  ]
}