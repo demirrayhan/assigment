{
  "nbformat": 4,
  "nbformat_minor": 0,
  "metadata": {
    "colab": {
      "name": "Untitled4.ipynb",
      "provenance": [],
      "authorship_tag": "ABX9TyMsGVoJar+qjml/y5eUlvbg",
      "include_colab_link": true
    },
    "kernelspec": {
      "name": "python3",
      "display_name": "Python 3"
    }
  },
  "cells": [
    {
      "cell_type": "markdown",
      "metadata": {
        "id": "view-in-github",
        "colab_type": "text"
      },
      "source": [
        "<a href=\"https://colab.research.google.com/github/demirrayhan/assigment/blob/main/Untitled4.ipynb\" target=\"_parent\"><img src=\"https://colab.research.google.com/assets/colab-badge.svg\" alt=\"Open In Colab\"/></a>"
      ]
    },
    {
      "cell_type": "code",
      "metadata": {
        "colab": {
          "base_uri": "https://localhost:8080/"
        },
        "id": "F1cl5kzuZrgq",
        "outputId": "d5975315-d374-4721-c65c-640b18613bd6"
      },
      "source": [
        "print(\"Answer the following questions with 'Yes' or 'No\")\n",
        "age = input('Are you a cigarette addict older than 75 years old?').title()\n",
        "chronic = input('Do you have a severe chronic disease?').title()\n",
        "immune = input('Is your immune system too weak?').title()\n",
        "if age == 'Yes' and chronic == 'Yes' or immune == 'Yes':\n",
        "  print('You are in risky group') \n",
        "else:\n",
        "  print('You are not in risky group')"
      ],
      "execution_count": 1,
      "outputs": [
        {
          "output_type": "stream",
          "text": [
            "Answer the following questions with 'Yes' or 'No\n",
            "Are you a cigarette addict older than 75 years old?no\n",
            "Do you have a severe chronic disease?no\n",
            "Is your immune system too weak?no\n",
            "You are not in risky group\n"
          ],
          "name": "stdout"
        }
      ]
    }
  ]
}